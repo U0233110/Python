{
 "cells": [
  {
   "cell_type": "markdown",
   "metadata": {},
   "source": [
    "# 安裝模組"
   ]
  },
  {
   "cell_type": "markdown",
   "metadata": {},
   "source": [
    "#### pip install opencv-python"
   ]
  },
  {
   "cell_type": "markdown",
   "metadata": {},
   "source": [
    "# 偵測人臉"
   ]
  },
  {
   "cell_type": "markdown",
   "metadata": {},
   "source": [
    "* scaleFactor: Parameter specifying how much the image size is reduced at each image scale. Increasing it leads to faster detection with the risk of missing some objects, whereas a small value might sometimes be too thorough.\n",
    "* minNeighbors: Parameter specifying how many neighbors each candidate rectangle should have to retain it. Higher value results in less detection but with higher quality.\n",
    "* minSize: Minimum possible object size. Objects smaller than that are ignored.\n",
    "* maxSize: Maximum possible object size. Objects larger than that are ignored."
   ]
  },
  {
   "cell_type": "code",
   "execution_count": null,
   "metadata": {},
   "outputs": [],
   "source": [
    "import cv2\n",
    "# 載入分類器\n",
    "face_cascade = cv2.CascadeClassifier('C:\\\\Users\\\\USER\\\\AppData\\\\Local\\\\Programs\\\\Python\\\\Python39\\\\Lib\\\\site-packages\\\\cv2\\\\data\\\\haarcascade_frontalface_default.xml')\n",
    "# 讀取圖片\n",
    "img = cv2.imread('a.jpeg')\n",
    "# 轉成灰階圖片\n",
    "gray = cv2.cvtColor(img, cv2.COLOR_BGR2GRAY)\n",
    "# 偵測臉部\n",
    "faces = face_cascade.detectMultiScale(\n",
    "    gray,\n",
    "    scaleFactor=1.08,\n",
    "    minNeighbors=5,\n",
    "    minSize=(32, 32))\n",
    "# 繪製人臉部份的方框\n",
    "for (x, y, w, h) in faces:\n",
    "    cv2.rectangle(img, (x, y), (x + w, y + h), (0, 255, 0), 2)\n",
    "#(0, 255, 0)欄位可以變更方框顏色(Blue,Green,Red)\n",
    "# 顯示成果\n",
    "cv2.namedWindow('img', cv2.WINDOW_NORMAL)  #正常視窗大小\n",
    "cv2.imshow('img', img)                     #秀出圖片\n",
    "cv2.imwrite( \"result.jpg\", img )           #保存圖片\n",
    "cv2.waitKey(0)                             #等待按下任一按鍵\n",
    "cv2.destroyAllWindows()                    #關閉視窗"
   ]
  }
 ],
 "metadata": {
  "kernelspec": {
   "display_name": "Python 3",
   "language": "python",
   "name": "python3"
  },
  "language_info": {
   "codemirror_mode": {
    "name": "ipython",
    "version": 3
   },
   "file_extension": ".py",
   "mimetype": "text/x-python",
   "name": "python",
   "nbconvert_exporter": "python",
   "pygments_lexer": "ipython3",
   "version": "3.8.5"
  }
 },
 "nbformat": 4,
 "nbformat_minor": 4
}
